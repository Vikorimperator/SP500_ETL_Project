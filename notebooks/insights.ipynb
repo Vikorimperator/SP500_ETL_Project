{
 "cells": [
  {
   "cell_type": "markdown",
   "metadata": {},
   "source": [
    "# Queries Insights de importancia"
   ]
  },
  {
   "cell_type": "code",
   "execution_count": 1,
   "metadata": {},
   "outputs": [
    {
     "data": {
      "text/plain": [
       "True"
      ]
     },
     "execution_count": 1,
     "metadata": {},
     "output_type": "execute_result"
    }
   ],
   "source": [
    "import pandas as pd\n",
    "from sqlalchemy import create_engine\n",
    "from dotenv import load_dotenv\n",
    "import os\n",
    "import re\n",
    "\n",
    "from sp500.db.db_config import engine\n",
    "\n",
    "# Cargar variables del archivo .env\n",
    "load_dotenv()"
   ]
  },
  {
   "cell_type": "markdown",
   "metadata": {},
   "source": [
    "# Funciones"
   ]
  },
  {
   "cell_type": "code",
   "execution_count": 2,
   "metadata": {},
   "outputs": [],
   "source": [
    "# Función para extraer el query por nombre\n",
    "def extract_query(filename, query_name):\n",
    "    with open(filename, 'r') as file:\n",
    "        content = file.read()\n",
    "    pattern = rf\"-- {query_name}\\n(.*?);\"\n",
    "    match = re.search(pattern, content, re.DOTALL)\n",
    "    if match:\n",
    "        return match.group(1).strip()\n",
    "    return None"
   ]
  },
  {
   "cell_type": "markdown",
   "metadata": {},
   "source": [
    "# Queries"
   ]
  },
  {
   "cell_type": "code",
   "execution_count": 7,
   "metadata": {},
   "outputs": [
    {
     "name": "stdout",
     "output_type": "stream",
     "text": [
      "     name  total_volume\n",
      "0     BAC  1.178850e+11\n",
      "1    AAPL  6.804631e+10\n",
      "2      GE  5.302364e+10\n",
      "3       F  4.338813e+10\n",
      "4      FB  4.325831e+10\n",
      "..    ...           ...\n",
      "500  WLTW  4.147346e+08\n",
      "501   AZO  3.975851e+08\n",
      "502   MTD  2.144898e+08\n",
      "503   BHF  1.448784e+08\n",
      "504  APTV  9.294778e+07\n",
      "\n",
      "[505 rows x 2 columns]\n"
     ]
    },
    {
     "name": "stderr",
     "output_type": "stream",
     "text": [
      "/tmp/ipykernel_47346/3211429806.py:13: UserWarning: pandas only supports SQLAlchemy connectable (engine/connection) or database string URI or sqlite3 DBAPI2 connection. Other DBAPI2 objects are not tested. Please consider using SQLAlchemy.\n",
      "  df = pd.read_sql(query, connection)\n"
     ]
    }
   ],
   "source": [
    "# Crear una conexión cruda (raw connection)\n",
    "connection = engine.raw_connection()\n",
    "\n",
    "try:  \n",
    "    # Definir el nombre del query a ejectuar\n",
    "    query_name = \"Volumen total negociado por empresa\"\n",
    "    \n",
    "    # Extraer el query desde el archivo .sql\n",
    "    query = extract_query('../sql/queries_stock_insights.sql', query_name)\n",
    "    \n",
    "    if query:\n",
    "        # Ejecutar el query y cargar los resultados en un DataFrame\n",
    "        df = pd.read_sql(query, connection)\n",
    "        # Mostrar el DataFrame\n",
    "        print(df)\n",
    "    else:\n",
    "        print(f\"Query '{query_name}' no encontrado en el archivo\")\n",
    "\n",
    "finally:\n",
    "    # Cerrar la conexión cruda\n",
    "    connection.close()"
   ]
  },
  {
   "cell_type": "code",
   "execution_count": null,
   "metadata": {},
   "outputs": [],
   "source": []
  }
 ],
 "metadata": {
  "kernelspec": {
   "display_name": "kiosko",
   "language": "python",
   "name": "python3"
  },
  "language_info": {
   "codemirror_mode": {
    "name": "ipython",
    "version": 3
   },
   "file_extension": ".py",
   "mimetype": "text/x-python",
   "name": "python",
   "nbconvert_exporter": "python",
   "pygments_lexer": "ipython3",
   "version": "3.10.12"
  }
 },
 "nbformat": 4,
 "nbformat_minor": 2
}
